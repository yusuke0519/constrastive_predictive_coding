{
 "cells": [
  {
   "cell_type": "markdown",
   "metadata": {},
   "source": [
    "### Implement VAE-Like model via pixyz"
   ]
  },
  {
   "cell_type": "code",
   "execution_count": 1,
   "metadata": {},
   "outputs": [],
   "source": [
    "from torch.utils import data\n",
    "\n",
    "from utils import split_dataset\n",
    "from datasets import OppG\n",
    "from opportunity import Encoder, ContextEncoder, Predictor"
   ]
  },
  {
   "cell_type": "code",
   "execution_count": 2,
   "metadata": {},
   "outputs": [
    {
     "name": "stdout",
     "output_type": "stream",
     "text": [
      "Load datasets ...\n"
     ]
    }
   ],
   "source": [
    "K = 12\n",
    "L=3\n",
    "\n",
    "print(\"Load datasets ...\")\n",
    "dataset_joint = OppG('S2,S3,S4', 'Gestures', l_sample=30, interval=15, T=K+L)\n",
    "train_dataset_joint, valid_dataset_joint = split_dataset(dataset_joint)\n",
    "train_loader_joint = data.DataLoader(dataset_joint, batch_size=128, shuffle=True)\n",
    "valid_loader_joint = data.DataLoader(dataset_joint, batch_size=128, shuffle=False)"
   ]
  },
  {
   "cell_type": "code",
   "execution_count": 8,
   "metadata": {},
   "outputs": [],
   "source": [
    "import torch\n",
    "from torch import nn\n",
    "from torch.nn import functional as F\n",
    "from pixyz.distributions import Normal, Normal\n",
    "from pixyz.losses import KullbackLeibler\n",
    "from pixyz.models import VAE\n",
    "\n",
    "\n",
    "class Inference(Normal):\n",
    "    def __init__(self, network, network_output, z_size):\n",
    "        super().__init__(cond_var=[\"x\"], var=[\"z\"], name=\"q\")\n",
    "        \n",
    "        self.network = network\n",
    "        self.network_mu = nn.Linear(network_output, z_size)\n",
    "        self.network_sigma = nn.Linear(network_output, z_size)\n",
    "        \n",
    "    def forward(self, x):\n",
    "        h = self.network(x)\n",
    "        return {\"loc\": self.network_mu(h), \"scale\": F.softplus(self.network_sigma(h))}\n",
    "    \n",
    "\n",
    "class Geneator(Normal):\n",
    "    def __init__(self):\n",
    "        super().__init__(cond_var=[\"z\"], var=[\"x\"], name=\"p\")\n",
    "        self.fc = nn.Linear(z_size, g_enc.output_shape()[1]).cuda()\n",
    "        self.deconv1 = nn.ConvTranspose2d(20, 40, kernel_size=(1, 3), stride=(1, 2))\n",
    "        self.deconv2 = nn.ConvTranspose2d(40, 50, kernel_size=(1, 5), stride=(1, 2))\n",
    "        self.deconv3 = nn.ConvTranspose2d(50, 1, kernel_size=(1, 5), stride=(1, 2), output_padding=(0, 1))\n",
    "        \n",
    "    def forward(self, z):\n",
    "        h = self.fc(z)\n",
    "        h = h.view(-1, 20, 113, 2)\n",
    "        h = self.deconv1(h)\n",
    "        h = self.deconv2(h)\n",
    "        h = self.deconv3(h)\n",
    "        return {\"loc\": h, \"scale\": torch.tensor(1.0).cuda()}"
   ]
  },
  {
   "cell_type": "code",
   "execution_count": 9,
   "metadata": {},
   "outputs": [],
   "source": [
    "z_size = 400\n",
    "g_enc = Encoder(input_shape=dataset_joint.get('input_shape'), hidden_size=None).cuda()\n",
    "q = Inference(g_enc, network_output=g_enc.output_shape()[1], z_size=z_size).cuda()\n",
    "p = Geneator().cuda()\n",
    "\n",
    "# prior\n",
    "loc = torch.tensor(0.).cuda()\n",
    "scale = torch.tensor(1.).cuda()\n",
    "prior = Normal(loc=loc, scale=scale, var=[\"z\"], dim=z_size, name=\"p_prior\")"
   ]
  },
  {
   "cell_type": "code",
   "execution_count": 15,
   "metadata": {},
   "outputs": [],
   "source": [
    "X, _ = train_loader_joint.__iter__().__next__()"
   ]
  },
  {
   "cell_type": "code",
   "execution_count": 22,
   "metadata": {},
   "outputs": [
    {
     "name": "stdout",
     "output_type": "stream",
     "text": [
      "tensor(-0.0179, device='cuda:0', grad_fn=<SelectBackward>)\n",
      "tensor(-0.0179, device='cuda:0', grad_fn=<SelectBackward>)\n"
     ]
    },
    {
     "data": {
      "text/plain": [
       "Inference(\n",
       "  (network): Encoder(\n",
       "    (conv): Sequential(\n",
       "      (0): Conv2d(1, 50, kernel_size=(1, 5), stride=(1, 1))\n",
       "      (1): ReLU()\n",
       "      (2): MaxPool2d(kernel_size=(1, 2), stride=(1, 2), padding=0, dilation=1, ceil_mode=False)\n",
       "      (3): Conv2d(50, 40, kernel_size=(1, 5), stride=(1, 1))\n",
       "      (4): ReLU()\n",
       "      (5): MaxPool2d(kernel_size=(1, 2), stride=(1, 2), padding=0, dilation=1, ceil_mode=False)\n",
       "      (6): Conv2d(40, 20, kernel_size=(1, 3), stride=(1, 1))\n",
       "      (7): ReLU()\n",
       "      (8): Dropout(p=0.5)\n",
       "      (9): Flatten()\n",
       "    )\n",
       "  )\n",
       "  (network_mu): Linear(in_features=4520, out_features=400, bias=True)\n",
       "  (network_sigma): Linear(in_features=4520, out_features=400, bias=True)\n",
       ")"
      ]
     },
     "execution_count": 22,
     "metadata": {},
     "output_type": "execute_result"
    }
   ],
   "source": [
    "q.eval()\n",
    "mu = q(X[..., 0].float().cuda())['loc']\n",
    "print(mu[0, 0])\n",
    "\n",
    "mu = q(X[..., 0].float().cuda())['loc']\n",
    "print(mu[0, 0])\n",
    "q.train()"
   ]
  },
  {
   "cell_type": "code",
   "execution_count": 23,
   "metadata": {},
   "outputs": [
    {
     "name": "stdout",
     "output_type": "stream",
     "text": [
      "Distributions (for training): \n",
      "  q(z|x), p(x|z) \n",
      "Loss function: \n",
      "  mean(-E_q(z|x)[log p(x|z)] + KL[q(z|x)||p_prior(z)]) \n",
      "Optimizer: \n",
      "  Adam (\n",
      "  Parameter Group 0\n",
      "      amsgrad: False\n",
      "      betas: (0.9, 0.999)\n",
      "      eps: 1e-08\n",
      "      lr: 0.001\n",
      "      weight_decay: 0\n",
      "  )\n"
     ]
    }
   ],
   "source": [
    "from torch import optim\n",
    "kl = KullbackLeibler(q, prior)\n",
    "model = VAE(q, p, regularizer=kl, optimizer=optim.Adam, optimizer_params={\"lr\": 0.001})\n",
    "print(model)"
   ]
  },
  {
   "cell_type": "code",
   "execution_count": 24,
   "metadata": {},
   "outputs": [
    {
     "name": "stdout",
     "output_type": "stream",
     "text": [
      "4127.953125\n",
      "4194.474609375\n",
      "3985.358154296875\n",
      "3970.8154296875\n",
      "4044.540283203125\n",
      "4052.95556640625\n",
      "4344.876953125\n",
      "4035.642578125\n",
      "3888.2109375\n",
      "3900.81884765625\n"
     ]
    }
   ],
   "source": [
    "report_per = 100\n",
    "for num_iter in range(1000):\n",
    "    x, _ = train_loader_joint.__iter__().__next__()\n",
    "    loss = model.train({\"x\": x[..., 0].float().cuda()})\n",
    "    \n",
    "    if ((num_iter+1) % report_per) !=0:\n",
    "        continue\n",
    "    print(loss.item())"
   ]
  },
  {
   "cell_type": "code",
   "execution_count": 132,
   "metadata": {},
   "outputs": [],
   "source": [
    "torch.save(q.state_dict(), 'test.pth')"
   ]
  },
  {
   "cell_type": "code",
   "execution_count": null,
   "metadata": {},
   "outputs": [],
   "source": []
  }
 ],
 "metadata": {
  "kernelspec": {
   "display_name": "Python 3",
   "language": "python",
   "name": "python3"
  },
  "language_info": {
   "codemirror_mode": {
    "name": "ipython",
    "version": 3
   },
   "file_extension": ".py",
   "mimetype": "text/x-python",
   "name": "python",
   "nbconvert_exporter": "python",
   "pygments_lexer": "ipython3",
   "version": "3.6.3"
  }
 },
 "nbformat": 4,
 "nbformat_minor": 2
}
